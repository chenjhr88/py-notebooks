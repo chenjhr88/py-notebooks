{
 "cells": [
  {
   "cell_type": "markdown",
   "metadata": {},
   "source": [
    "# Section 1: 10 points\n",
    "_Each of the sections below must be completed to earn all 10 points._"
   ]
  },
  {
   "cell_type": "markdown",
   "metadata": {},
   "source": [
    "# Open Data Project: _Your Title_\n",
    "\n",
    "_Name:_ **Justin Chen**\n",
    "\n",
    "_Date:_ **2/6/2018**\n",
    "\n",
    "_Source for Data Set:_ https://data.cityofchicago.org/\n",
    "\n",
    "\n",
    "_URL for Data Set:_ https://data.cityofchicago.org/Environment-Sustainable-Development/Chicago-Energy-Benchmarking/xq83-jr8c/data\n",
    "\n",
    "_Description of Data Set:_ This dataset contains information of building size, energy usage (by type), CO2 emissions, and energy scores. The dataset also contains building IDs, location, and type of building.\n",
    "\n",
    "_File Format for Data Set:_ Comma Separated Files\n",
    "\n",
    "_Age of Data Set:_ 1 year old (last updated February 9, 2017)"
   ]
  },
  {
   "cell_type": "markdown",
   "metadata": {},
   "source": [
    "### Modify Data 1 of 4: Import Your Data Set as a Pandas Data Frame\n",
    "\n",
    "Import your data set as a Pandas Data Frame"
   ]
  },
  {
   "cell_type": "code",
   "execution_count": 18,
   "metadata": {
    "collapsed": true
   },
   "outputs": [],
   "source": [
    "# import pandas\n",
    "import pandas as pd\n",
    "\n",
    "# place the csv fie into the memory\n",
    "energy_data = pd.read_csv(\"Chicago_Energy_Benchmarking.csv\")"
   ]
  },
  {
   "cell_type": "markdown",
   "metadata": {},
   "source": [
    "Show the last three entries:\n",
    "\n",
    "_This is a good way for you to see if your modification was successful and to see what the data looks like in your data set._"
   ]
  },
  {
   "cell_type": "code",
   "execution_count": 19,
   "metadata": {},
   "outputs": [
    {
     "data": {
      "text/html": [
       "<div>\n",
       "<style>\n",
       "    .dataframe thead tr:only-child th {\n",
       "        text-align: right;\n",
       "    }\n",
       "\n",
       "    .dataframe thead th {\n",
       "        text-align: left;\n",
       "    }\n",
       "\n",
       "    .dataframe tbody tr th {\n",
       "        vertical-align: top;\n",
       "    }\n",
       "</style>\n",
       "<table border=\"1\" class=\"dataframe\">\n",
       "  <thead>\n",
       "    <tr style=\"text-align: right;\">\n",
       "      <th></th>\n",
       "      <th>Data Year</th>\n",
       "      <th>ID</th>\n",
       "      <th>Property Name</th>\n",
       "      <th>Address</th>\n",
       "      <th>ZIP Code</th>\n",
       "      <th>Community Area</th>\n",
       "      <th>Primary Property Type</th>\n",
       "      <th>Gross Floor Area - Buildings (sq ft)</th>\n",
       "      <th>Year Built</th>\n",
       "      <th># of Buildings</th>\n",
       "      <th>...</th>\n",
       "      <th>All Other Fuel Use (kBtu)</th>\n",
       "      <th>Site EUI (kBtu/sq ft)</th>\n",
       "      <th>Source EUI (kBtu/sq ft)</th>\n",
       "      <th>Weather Normalized Site EUI (kBtu/sq ft)</th>\n",
       "      <th>Weather Normalized Source EUI (kBtu/sq ft)</th>\n",
       "      <th>Total GHG Emissions (Metric Tons CO2e)</th>\n",
       "      <th>GHG Intensity (kg CO2e/sq ft)</th>\n",
       "      <th>Latitude</th>\n",
       "      <th>Longitude</th>\n",
       "      <th>Location</th>\n",
       "    </tr>\n",
       "  </thead>\n",
       "  <tbody>\n",
       "    <tr>\n",
       "      <th>1761</th>\n",
       "      <td>2015</td>\n",
       "      <td>103606</td>\n",
       "      <td>Willis Tower</td>\n",
       "      <td>233 S Wacker Drive</td>\n",
       "      <td>60606</td>\n",
       "      <td>LOOP</td>\n",
       "      <td>Office</td>\n",
       "      <td>4493970</td>\n",
       "      <td>1973</td>\n",
       "      <td>1</td>\n",
       "      <td>...</td>\n",
       "      <td>NaN</td>\n",
       "      <td>86.6</td>\n",
       "      <td>271.8</td>\n",
       "      <td>86.6</td>\n",
       "      <td>271.8</td>\n",
       "      <td>78160.0</td>\n",
       "      <td>17.4</td>\n",
       "      <td>41.878876</td>\n",
       "      <td>-87.635873</td>\n",
       "      <td>(41.878875809999997, -87.635873489999994)</td>\n",
       "    </tr>\n",
       "    <tr>\n",
       "      <th>1762</th>\n",
       "      <td>2015</td>\n",
       "      <td>100867</td>\n",
       "      <td>Rush University Medical Center</td>\n",
       "      <td>1653 West Congress Parkway</td>\n",
       "      <td>60612</td>\n",
       "      <td>NEAR WEST SIDE</td>\n",
       "      <td>Hospital (General Medical &amp; Surgical)</td>\n",
       "      <td>4098526</td>\n",
       "      <td>1982</td>\n",
       "      <td>9</td>\n",
       "      <td>...</td>\n",
       "      <td>NaN</td>\n",
       "      <td>263.7</td>\n",
       "      <td>524.3</td>\n",
       "      <td>266.9</td>\n",
       "      <td>525.7</td>\n",
       "      <td>129897.0</td>\n",
       "      <td>31.7</td>\n",
       "      <td>41.875121</td>\n",
       "      <td>-87.668005</td>\n",
       "      <td>(41.875121, -87.668004999999994)</td>\n",
       "    </tr>\n",
       "    <tr>\n",
       "      <th>1763</th>\n",
       "      <td>2015</td>\n",
       "      <td>101551</td>\n",
       "      <td>METROPOLITIAN PIER AND EXPOSITION AUTHORITY</td>\n",
       "      <td>301 Cermak Road</td>\n",
       "      <td>60616</td>\n",
       "      <td>ARMOUR SQUARE</td>\n",
       "      <td>Convention Center</td>\n",
       "      <td>9245333</td>\n",
       "      <td>1971</td>\n",
       "      <td>8</td>\n",
       "      <td>...</td>\n",
       "      <td>NaN</td>\n",
       "      <td>83.2</td>\n",
       "      <td>193.6</td>\n",
       "      <td>85.1</td>\n",
       "      <td>195.6</td>\n",
       "      <td>110298.0</td>\n",
       "      <td>11.9</td>\n",
       "      <td>41.852840</td>\n",
       "      <td>-87.634931</td>\n",
       "      <td>(41.85284, -87.634930999999995)</td>\n",
       "    </tr>\n",
       "  </tbody>\n",
       "</table>\n",
       "<p>3 rows × 25 columns</p>\n",
       "</div>"
      ],
      "text/plain": [
       "      Data Year      ID                                Property Name  \\\n",
       "1761       2015  103606                                 Willis Tower   \n",
       "1762       2015  100867               Rush University Medical Center   \n",
       "1763       2015  101551  METROPOLITIAN PIER AND EXPOSITION AUTHORITY   \n",
       "\n",
       "                         Address ZIP Code  Community Area  \\\n",
       "1761          233 S Wacker Drive    60606            LOOP   \n",
       "1762  1653 West Congress Parkway    60612  NEAR WEST SIDE   \n",
       "1763             301 Cermak Road    60616   ARMOUR SQUARE   \n",
       "\n",
       "                      Primary Property Type  \\\n",
       "1761                                 Office   \n",
       "1762  Hospital (General Medical & Surgical)   \n",
       "1763                      Convention Center   \n",
       "\n",
       "      Gross Floor Area - Buildings (sq ft)  Year Built  # of Buildings  \\\n",
       "1761                               4493970        1973               1   \n",
       "1762                               4098526        1982               9   \n",
       "1763                               9245333        1971               8   \n",
       "\n",
       "                        ...                      All Other Fuel Use (kBtu)  \\\n",
       "1761                    ...                                            NaN   \n",
       "1762                    ...                                            NaN   \n",
       "1763                    ...                                            NaN   \n",
       "\n",
       "      Site EUI (kBtu/sq ft)  Source EUI (kBtu/sq ft)  \\\n",
       "1761                   86.6                    271.8   \n",
       "1762                  263.7                    524.3   \n",
       "1763                   83.2                    193.6   \n",
       "\n",
       "      Weather Normalized Site EUI (kBtu/sq ft)  \\\n",
       "1761                                      86.6   \n",
       "1762                                     266.9   \n",
       "1763                                      85.1   \n",
       "\n",
       "      Weather Normalized Source EUI (kBtu/sq ft)  \\\n",
       "1761                                       271.8   \n",
       "1762                                       525.7   \n",
       "1763                                       195.6   \n",
       "\n",
       "      Total GHG Emissions (Metric Tons CO2e)  GHG Intensity (kg CO2e/sq ft)  \\\n",
       "1761                                 78160.0                           17.4   \n",
       "1762                                129897.0                           31.7   \n",
       "1763                                110298.0                           11.9   \n",
       "\n",
       "       Latitude  Longitude                                   Location  \n",
       "1761  41.878876 -87.635873  (41.878875809999997, -87.635873489999994)  \n",
       "1762  41.875121 -87.668005           (41.875121, -87.668004999999994)  \n",
       "1763  41.852840 -87.634931            (41.85284, -87.634930999999995)  \n",
       "\n",
       "[3 rows x 25 columns]"
      ]
     },
     "execution_count": 19,
     "metadata": {},
     "output_type": "execute_result"
    }
   ],
   "source": [
    "# takes and displays the last three entries\n",
    "energy_data[-3:]"
   ]
  },
  {
   "cell_type": "markdown",
   "metadata": {},
   "source": [
    "### Question 1 of 4: How Many Entries Are in Your Data Set?\n",
    "\n",
    "### Answer: 1764 entries"
   ]
  },
  {
   "cell_type": "code",
   "execution_count": 20,
   "metadata": {},
   "outputs": [
    {
     "name": "stdout",
     "output_type": "stream",
     "text": [
      "1764\n"
     ]
    }
   ],
   "source": [
    "# use the length method to find the number of entries\n",
    "print(len(energy_data))"
   ]
  },
  {
   "cell_type": "markdown",
   "metadata": {},
   "source": [
    "### Visualization 1 of 4: _Create a histogram. Describe it here._\n",
    "\n",
    "The histogram represents the amount of buildings using the same amount of electricity."
   ]
  },
  {
   "cell_type": "code",
   "execution_count": 21,
   "metadata": {
    "collapsed": true
   },
   "outputs": [],
   "source": [
    "import numpy as np\n",
    "energy_used = energy_data[\"Electricity Use (kBtu)\"]\n",
    "energy_array = np.array(energy_used)"
   ]
  },
  {
   "cell_type": "code",
   "execution_count": 22,
   "metadata": {},
   "outputs": [
    {
     "data": {
      "image/png": "[encoded data removed]",
      "text/plain": [
       "<matplotlib.figure.Figure at 0x131a3264e80>"
      ]
     },
     "metadata": {},
     "output_type": "display_data"
    }
   ],
   "source": [
    "import matplotlib.pyplot as plt\n",
    "%matplotlib inline\n",
    "\n",
    "# creates bins of every 1000000 kBtu of energy used\n",
    "bins = []\n",
    "for i in range(100):\n",
    "    bin = i*1000000\n",
    "    bins.append(bin)\n",
    "    \n",
    "plt.style.use(\"ggplot\")\n",
    "plt.figure(figsize = (10,5))\n",
    "\n",
    "# creates a histogram using the matplotlib library\n",
    "plt.hist(energy_array, bins, align = \"left\", color = \"lightgreen\", edgecolor = \"k\")\n",
    "\n",
    "# creates labels for the histogram\n",
    "plt.title(\"City of Chicago Electricity Use\")\n",
    "plt.xlabel(\"Energy Used (in kBtu)\")\n",
    "plt.ylabel(\"Frequency\")\n",
    "\n",
    "# alters the displays of the histogram\n",
    "plt.xlim([-10000,100000000])\n",
    "plt.show()"
   ]
  },
  {
   "cell_type": "markdown",
   "metadata": {},
   "source": [
    "# Section 2: 10 points\n",
    "\n",
    "_Each of the sections below must be completed to earn all 10 points._"
   ]
  },
  {
   "cell_type": "markdown",
   "metadata": {},
   "source": [
    "### Modify Data 2 of 4: Convert to a Numpy Number Array\n",
    "\n",
    "_Convert one or more columns from your Pandas Data Frame into a Numpy Number Array_"
   ]
  },
  {
   "cell_type": "code",
   "execution_count": 23,
   "metadata": {
    "collapsed": true
   },
   "outputs": [],
   "source": [
    "# import numpy to create arrays\n",
    "import numpy as np\n",
    "# sets the variable to an array of a list from the total greenhouse gass emissions collumn\n",
    "dioxide_released = np.array(energy_data[\"Total GHG Emissions (Metric Tons CO2e)\"])\n",
    "dioxide_released = dioxide_released[~np.isnan(dioxide_released)]"
   ]
  },
  {
   "cell_type": "markdown",
   "metadata": {},
   "source": [
    "Print the numpy number array:\n",
    "\n",
    "_This is a good way for you to see if your modification was successful and to see what the data looks like in your data set._"
   ]
  },
  {
   "cell_type": "code",
   "execution_count": 24,
   "metadata": {},
   "outputs": [
    {
     "name": "stdout",
     "output_type": "stream",
     "text": [
      "[   2379.    7573.  115833. ...,   78160.  129897.  110298.]\n"
     ]
    }
   ],
   "source": [
    "# prints the list of CO2 emissions from each building\n",
    "print(dioxide_released)"
   ]
  },
  {
   "cell_type": "markdown",
   "metadata": {},
   "source": [
    "### Question 2 of 4: _Ask at least one basic statistical question you can answer using Numpy. To earn all 5 points for this section, compute 3 or more basic statistics about your data._\n",
    "**What is the total amout of CO2 emitted?**\n",
    "* Answer: 956287 Metric Tons of CO2\n",
    "\n",
    "**What is the average (mean) CO2 emitted?**\n",
    "* Answer: 5461.10051399 Metric Tons of CO2\n",
    "\n",
    "**What is the standard deviation of CO2 emitted?**\n",
    "* Answer: 9924.22508867 Metric Tons of CO2\n"
   ]
  },
  {
   "cell_type": "code",
   "execution_count": 25,
   "metadata": {},
   "outputs": [
    {
     "name": "stdout",
     "output_type": "stream",
     "text": [
      "Total CO2 emitted = 9562387.0 Metric Tons\n"
     ]
    }
   ],
   "source": [
    "# prints total amount of CO2 emitted\n",
    "print(\"Total CO2 emitted =\", np.sum(dioxide_released), \"Metric Tons\")"
   ]
  },
  {
   "cell_type": "code",
   "execution_count": 26,
   "metadata": {},
   "outputs": [
    {
     "name": "stdout",
     "output_type": "stream",
     "text": [
      "Average CO2 emitted = 5461.10051399 Metric Tons\n"
     ]
    }
   ],
   "source": [
    "# uses numpy to find the average amount of CO2 released\n",
    "print(\"Average CO2 emitted =\", np.average(dioxide_released), \"Metric Tons\")"
   ]
  },
  {
   "cell_type": "code",
   "execution_count": 27,
   "metadata": {},
   "outputs": [
    {
     "name": "stdout",
     "output_type": "stream",
     "text": [
      "Standard Deviation = 9924.22508867 Metric Tons\n"
     ]
    }
   ],
   "source": [
    "# prints the standard deviation of the array\n",
    "print(\"Standard Deviation =\", np.std(dioxide_released), \"Metric Tons\")"
   ]
  },
  {
   "cell_type": "markdown",
   "metadata": {},
   "source": [
    "### Visualization 2 of 4: _Create a visualization that is related to your question in some way._\n",
    "\n",
    "_Finds the amount of emission by the building size with a histogram._"
   ]
  },
  {
   "cell_type": "code",
   "execution_count": 28,
   "metadata": {},
   "outputs": [
    {
     "data": {
      "image/png": "[encoded data removed]",
      "text/plain": [
       "<matplotlib.figure.Figure at 0x131a4257588>"
      ]
     },
     "metadata": {},
     "output_type": "display_data"
    }
   ],
   "source": [
    "# uses matplotlib to create a histogram\n",
    "# creates a variable that uses the total amount of square feet\n",
    "import matplotlib.pyplot as plt\n",
    "%matplotlib inline\n",
    "\n",
    "# creates bins of every 1000 metric tons of CO2 emissions\n",
    "bins = []\n",
    "for i in range(10):\n",
    "    bin = i*1000\n",
    "    bins.append(bin)\n",
    "    \n",
    "plt.style.use(\"ggplot\")\n",
    "plt.figure(figsize = (10,5))\n",
    "\n",
    "# creates a histogram using the matplotlib library\n",
    "plt.hist(dioxide_released, bins, align = \"left\", color = \"blue\", edgecolor = \"k\")\n",
    "\n",
    "# creates labels for the histogram\n",
    "plt.title(\"Total CO2 Emitted\")\n",
    "plt.xlabel(\"CO2 Emitted (in Metric Tons)\")\n",
    "plt.ylabel(\"Frequency\")\n",
    "\n",
    "# alters the displays of the histogram\n",
    "plt.xlim([-1000,10000])\n",
    "plt.show()"
   ]
  },
  {
   "cell_type": "markdown",
   "metadata": {},
   "source": [
    "# Section 3: 10 points\n",
    "\n",
    "_To earn all 10 points on this question, you must ask/answer an interesting question that requires you to modify your data in some non-trivial way._"
   ]
  },
  {
   "cell_type": "markdown",
   "metadata": {
    "collapsed": true
   },
   "source": [
    "### Question: For 1 Metric Ton of CO2 emitted, how much electricity is being used? (per building)"
   ]
  },
  {
   "cell_type": "markdown",
   "metadata": {},
   "source": [
    "### Modify Data 3 of 4: _Describe how you have modified your data_\n",
    "\n",
    "I modified my data by adding numbers to an array and appending new numbers to another array."
   ]
  },
  {
   "cell_type": "code",
   "execution_count": 29,
   "metadata": {},
   "outputs": [
    {
     "name": "stdout",
     "output_type": "stream",
     "text": [
      "[2895.8688524590166, 4726.3656410933581, 4191.7497949634389, 2998.7815920398011, 3072.3100600600601, 3279.5185049468669, 3287.4721283783783, 3512.1772903225806, 2074.0160361842104, 4935.3128376640079, 4976.8678756476684, 3292.2814493493238, 3770.9215551181101, 3730.6347101174688, 3266.8699525435018, 3806.8207787125807, 3502.4570479704798, 3387.0976314780405, 3543.9870714422523, 3902.5214170692429, 3237.0265808516056, 3760.3275405007362, 3111.8386424953851, 4170.3549577546855, 2585.7632839721255, 3076.8971867007672, 4977.5598787266299, 3452.2447392497711, 3056.052077238151, 3504.1950133570795, 2925.014058956916, 4959.8652958455732, 4964.1308043303216, 4977.2723827569871, 4977.4856077862914, 3894.9366849111425, 4977.3109357855683, 3368.0382751335901, 4977.5202581570456, 3514.3001160669874, 3246.4574235807859, 4977.0964982624964, 4977.0877352074358, 4976.7938886303709, 3483.2539556221327, 4977.1089217296112, 3340.4131241084165, 4470.9900230237909, 4977.3946740128558, 3987.0484639830506, 3923.1641414141413, 3512.3949859041481, 4974.7918012258615, 4976.4815707620528, 4977.1945436830138, 4897.4441634241248, 3828.5755855216466, 4977.0100898628407, 4977.3370711297075, 3533.8605128205127, 4977.409156626506, 4977.1913956200597, 3680.1231804449326, 4977.2812245200503, 4967.6563222185541, 4977.2055533359971, 3676.4406077348067, 4943.1540008745078, 4976.351414482222, 4386.7533240722369, 4977.0127533897166, 4977.3294687221305, 3779.6364802462804, 3935.8254440014498, 4494.7251184834122, 4186.355433503335, 4090.1767232767234, 4389.5181850158287, 4087.7424395890607, 3185.8165950590765, 4976.1822472594395, 4977.0905803996193, 4977.2984123920278, 3783.0861568247824, 3495.0852534562214, 3340.5245358090187, 4646.2671619204839, 3626.7496659986641, 3031.2864743769251, 4974.043805612594, 5448.3980140186914, 1337.3518884275868, 11762.826914983165, 2214.4025560601094, 6160.4277564326467, 5051.3381885798408, 1892.405679274184, 20905.256701579976, 3578.0569021578481, 5768.7410654079567, 537.44509272107985, 35973.340363210307, 22083.630370254647, 2618.1892530566115, 1078.9556531390242, 4262.0044206846924, 26712.413274890419, 4385.0545610462004, 441.61302297582023, 10572.694216757742, 11809.995714795858, 1572.6742540168325, 2239.7619080349164, 752.68535417604448, 4250.2941832482247, 8055.9748743718592, 2660.3396417328736, 5023.7291062801933, 16742.765032844873, 22509.300153925091, 1561.1463024916363, 11622.5401179941, 2396.3423229054297, 4096.9995168848736, 3421.2714964370548, 5253.8041619156211, 17153.56755852843, 3594.9908563782337, 519.65156096454757, 3784.7951547779271, 3536.4741821048483, 13985.105352591334, 6141.5578391074578, 1675.9366047231902, 1945.7056136854344, 1582.5821834061135, 2904.3380390143739, 3388.5192551187424, 3469.2024715407561, 20678.275393228472, 15845.573200466448, 2136.5957098113481, 380.28100095262437, 4827.5711637759832, 33877.210432297252, 41524.628975950349, 3345.5718004338396, 99.904758555553329, 9676.8861236802422, 19338.174884112937, 70195.38500779368, 2789.0229799851741, 402.0280181511186, 2951.0148066672309, 833.68306543270012, 8899.4848656829363, 9009.7546331750655, 10825.184229476716, 1375.3311507936507, 8642.3582446808505, 6679.6702625686949, 4531.4547655068081, 437.77303968880699, 4229.4847537138394, 12164.503061592028, 12311.782283218965, 5080.9746724890829, 16132.039704165045, 1085.6312703959338, 577.56114749430526, 625.6455534584212, 8431.0378096479799, 2246.9337081513117, 4181.2258906920351, 3463.4049894072377, 2530.8599939893993, 26331.158464566928, 10263.049264705882, 45201.476161117964, 380.33922916044219, 3151.9041521148624, 1206.2809402858709, 9035.1765080836758, 9305.85936329588, 9388.288298691301, 2745.1814647339729, 2329.3772129710778, 4339.2879011682553, 19802.522704339051, 2808.7776290844208, 4141.0719462379757, 1377.5738731443994, 23529.390634262003, 1358.9887177261878, 7255.19419309151, 953.6321569284936, 7434.5423463325051, 7130.362536739769, 11149.422910798123, 22089.455397932194, 7973.1186164433175, 4895.5173623937935, 6981.7276785714284, 5415.9008866995073, 3165.5879945429742, 1583.8265518677961, 1820.9538306451614, 201.73124021795837, 467.74218097117762, 4962.3472632759149, 82494.070398053183, 23794.737168926626, 8578.3527620704663, 1836.6241762501616, 18030.632450331126, 2610.60574048236, 1889.0196555861387, 1250.8462608695652, 2349.2009159229683, 34843.385345482158, 1770.0507845453012, 6496.3998156115549, 4263.1901941428105, 4450.0092019912508, 4185.4185043939642, 1668.6682846111416, 8619.6230023578719, 10913.970770917062, 12058.060510668065, 817.32964773863762, 201.68744170898162, 2579.7672122629256, 17284.391519823788, 28992.512060224304, 1280.1771282542725, 5128.9659574468087, 11715.633802816901, 10023.555441214305, 1916.9612272935431, 344.32555869509378, 423.03621805989133, 62052.130057803472, 188716.18539325843, 889018.70949720673, 5.7837837837837842, 292.29381443298968, 170.28436018957345, 1985.8225806451612, 661.32302405498285, 184.98362989323843, 947.78593272171258, 1435.0515021459228, 2624.9069767441861, 1849.3511111111111, 836.92021276595744, 2812.1411764705881, 2011.9430894308944, 1744.5046439628484, 1915.5186440677967, 3222.1694915254238, 2949.2538071065992, 2287.3229571984434, 796.1545574636724, 1045.413559322034, 1913.8204334365325, 1999.8269230769231, 2864.9615384615386, 4606.2380952380954, 4633.2635135135133, 1713.2718204488779, 3435.3568075117373, 2006.6530054644809, 1710.258660508083, 1576.9766949152543, 2256.5075528700904, 4788.3248407643314, 1798.72553699284, 2459.0838709677419, 2555.6633986928105, 1761.0311111111112, 1859.3948598130842, 2360.9681159420288, 1736.3185654008439, 1442.2009966777409, 2615.6696696696695, 2783.1214057507987, 2382.6209677419356, 2372.8944591029026, 2900.364217252396, 1830.4386317907445, 2348.0736040609136, 2681.7528735632186, 1516.2479740680712, 2049.2467248908297, 3063.2050473186118, 2803.0028818443802, 3039.0518292682927, 886.0467784642542, 4371.6277056277058, 3960.4140625, 2409.3752969121142, 1678.6704730831973, 2089.5322580645161, 2719.9268929503914, 1592.0954545454545, 1519.2961373390558, 2746.3482587064677, 2820.1836734693879, 2473.2004454342982, 1505.2459893048128, 2517.5377777777776, 2489.5630434782611, 1802.1355932203389, 2613.4464285714284, 2725.7726218097446, 3243.2737127371274, 2745.6032110091742, 3151.2736842105264, 2577.1141649048627, 2264.6259259259259, 3043.3688118811883, 2494.9006085192696, 2928.9881516587679, 2981.314148681055, 2750.825221238938, 2779.1785714285716, 2740.8004385964914, 2588.2743902439024, 2943.8778801843318, 2619.1379310344828, 2007.2263565891474, 2625.5818181818181, 2883.9246119733925, 2804.5778251599149, 2788.331223628692, 2711.9036885245901, 2129.4774919614147, 2506.6805293005673, 2132.8499210110585, 2924.8344086021507, 2994.8927789934355, 2311.6851851851852, 2806.1174089068827, 2831.6040816326531, 2661.0994263862331, 2764.1762376237625, 1632.1327124563445, 2103.8176382660686, 2474.059753954306, 3028.9657387580301, 2106.3744427934621, 2820.5526838966202, 3037.7264957264956, 2776.3941747572817, 2461.2182130584192, 2944.9671457905542, 2786.1508704061894, 2411.1135225375624, 2479.0926243567751, 2455.4003378378379, 2955.2357723577234, 2761.3472485768502, 2540.8603839441535, 2796.9865642994241, 3533.1646489104114, 3416.0397196261683, 2701.7066420664205, 2494.7308347529811, 2874.9450980392157, 3690.5979899497488, 2313.1332288401254, 3610.3985330073351, 2745.6883116883118, 2731.3616236162361, 2808.3207547169814, 2768.5464684014869, 3047.5836734693876, 2514.0993265993266, 3664.2892156862745, 2933.4280155642023, 3621.341232227488, 2879.6616541353383, 4247.7036011080336, 3129.0549898167005, 3499.6545454545453, 2222.2456896551726, 3483.8220720720719, 3205.5134575569359, 3379.2413043478259, 2006.9732142857142, 4176.5052910052909, 2553.8440514469453, 3014.8487712665406, 3286.7546012269941, 3365.8096234309623, 3198.8349900596422, 3086.2681992337166, 3943.8679706601465, 3323.9959016393441, 2670.2516447368421, 2863.7416520210895, 2451.4602698650674, 2591.0424528301887, 2682.2764227642278, 3163.4750957854408, 3985.0839328537172, 3553.366737739872, 3080.5719557195571, 2515.6355421686749, 3475.0289855072465, 2190.0013037809649, 2833.0100840336136, 2221.4703557312255, 3489.3059548254619, 2916.3373287671234, 2932.7982905982908, 4038.4800936768152, 2795.9935275080907, 3074.9323843416369, 2728.6933962264152, 4261.958333333333, 2862.3579638752053, 3431.98031496063, 1251.5727598566309, 2262.3445595854923, 3853.6585903083701, 2696.2933947772658, 2357.4322147651005, 3385.6050096339113, 3021.508591065292, 3060.1105354058723, 3276.4306839186693, 3611.7032520325201, 2412.4952766531715, 3723.8029045643152, 2469.4377564979482, 2972.4654605263158, 3174.0526315789475, 3606.1733067729083, 2542.7986111111113, 2925.0398089171977, 2458.1428571428573, 3915.1804670912952, 3567.1411992263056, 2231.1265060240962, 3283.955673758865, 2495.1507402422612, 3045.1018062397375, 2834.9268292682927, 2520.4119241192411, 3289.8763066202091, 3406.8850987432675, 2125.3950892857142, 2475.9246753246753, 2516.6417322834645, 2959.9877112135177, 4251.8810572687225, 3404.5035211267605, 3241.6270903010031, 3475.5931899641578, 3140.2041800643087, 1713.5573913043479, 2428.326354679803, 2779.8477653631285, 2638.1761589403973, 1461.2309384164223, 2800.5379213483147, 4071.0224032586557, 4755.2826603325411, 2651.7536423841061, 3262.6553398058254, 3255.5870967741935, 2168.5625668449197, 3639.1140819964348, 4929.3293269230771, 3369.9639344262296, 3466.7929292929293, 3288.1669316375201, 792.46957520091848, 3938.722433460076, 3756.699275362319, 3191.8836140888207, 3268.7430340557275, 3926.2453531598512, 2708.9298469387754, 3445.8152350081036, 3096.0509461426491, 4209.418972332016, 3605.2411467116358, 4175.3075435203091, 3425.0870253164558, 3693.8177172061328, 2901.8571428571427, 3159.2107558139537, 3856.8473684210526, 3077.247566063978, 2436.6314631463147, 2602.0679953106683, 3389.6595744680849, 2847.8854961832062, 2991.1717709720374, 3840.1811965811967, 3891.6937716262978, 2729.328899637243, 4490.7261904761908, 2258.3151093439365, 806.55267825470025, 2956.8160621761658, 2102.5902394106815, 4926.0623655913978, 3665.4920382165606, 4581.3214285714284, 3943.1501706484642, 4142.4587813620074, 2977.7141025641026, 3826.9950576606261, 2698.4792147806006, 884.73628452516084, 894.09589041095887, 3787.3413848631239, 3545.4114114114113, 4222.7843137254904, 2299.9768339768339, 3122.140992167102, 4178.7068062827229, 4721.9196078431369, 2664.8030973451328, 2818.5192982456142, 3319.299589603283, 3764.4682170542637, 3118.8373879641485, 3333.9083447332423, 3051.4575, 3084.5446540880503, 3789.5762711864409, 3883.0362776025236, 4280.6822107081171, 3500.5246132208158, 3329.389037433155, 2031.0944625407167, 3553.4566145092463, 2735.9737417943106, 884.52575864502467, 3689.3558823529411, 1422.4246031746031, 4037.959935897436, 3063.7657766990292, 3651.0534682080925, 3488.528198074278, 2112.2622814321398, 3462.8501362397819, 3990.3646322378718, 3395.7137150466046, 4024.1145996860282, 2798.605633802817, 3615.0514603616134, 2690.4260599793174, 4171.4587301587298, 4587.1588132635252, 3699.8087201125177, 1360.0153846153846, 3077.1600928074245, 3418.0822622107971, 4653.9405594405598, 4084.9525267993877, 2345.6076721883173, 4109.0914634146338, 4166.4204018547143, 3998.7887740029541, 4807.484955752212, 147.56624348958334, 3581.1815789473685, 3269.3752997601919, 2075.1082513247538, 3110.6859410430839, 2861.4294605809127, 3332.1002415458938, 4155.8721804511279, 3830.6127247579529, 3912.4372355430182, 4880.0105078809111, 2805.0849150849149, 4206.0776119402981, 3362.2125890736343, 3787.2649800266313, 3649.3617834394904, 3419.0894988066825, 4909.6467576791811, 2928.5542046605879, 2769.4262452107278, 3153.9004329004329, 3368.0357967667437, 4060.6731571627261, 3868.2145695364238, 3628.7950310559008, 3895.3240000000001, 2684.8792314730099, 2760.6732394366195, 3011.3807574206758, 2814.4971319311662, 2479.4545454545455, 3531.0430107526881, 3326.8764044943819, 2945.8232373386295, 3186.572038420491, 3615.5920096852301, 3066.3511293634497, 3226.1922246220302, 4081.5858310626704, 3613.9771634615386, 2030.8446995273464, 2026.9279461279461, 4963.1393442622948, 4961.7692307692305, 3747.912237330037, 2928.7461389961391, 1738.3777904979966, 3938.8808290155439, 3445.020293122886, 4014.5669291338581, 3615.0649350649351, 3902.291719745223, 2862.775092936803, 2847.1537753222838, 4637.2038980509742, 3528.5517633674631, 4881.4559748427673, 3917.3487500000001, 4624.1838235294117, 3908.5570719602979, 4560.4135446685877, 3810.4283995186524, 4757.0583832335333, 2005.4356559949781, 3114.1998050682259, 3235.2955465587042, 3912.9926650366747, 4930.7292307692305, 4913.0764525993882, 3914.5060827250609, 2770.2463519313305, 4211.9140625, 4934.0974124809745, 3266.7253521126759, 3890.1385902031061, 4196.4350064350065, 4464.1582537517052, 2610.7470261697067, 3535.7155080213902, 3440.5748440748439, 357.11451039534631, 2803.6413502109704, 4941.1612426035499, 4030.8069963811822, 4222.7601010101007, 2830.4103214890015, 3726.2901439645625, 3920.0651920838186, 3293.7397660818715, 4384.8000000000002, 3944.9019607843138, 2753.5060337892196, 4317.3896595208071, 4070.7950236966826, 4661.9674355495254, 4263.6414392059551, 4075.6421800947869, 3551.6769865841075, 3832.8351769911505, 4083.6454652532393, 2081.7802985074627, 3128.9722222222222, 3228.558118081181, 2163.3318965517242, 3320.6650943396226, 4298.9450549450548, 4000.655328798186, 3751.6832101372756, 4413.9727047146398, 4251.2792362768496, 4927.8948824343015, 4966.2611111111109, 3305.4334565619224, 4412.0234278668313, 3306.6943674976915, 3574.3153692614769, 3952.0893054024255, 4766.333333333333, 4084.9818181818182, 4289.9561091340447, 3603.7796442687745, 3651.0040040040039, 3568.4052734375, 3951.6972972972972, 3485.3494776828111, 1991.3027522935779, 4810.3836150845254, 3804.7831449126411, 3799.8314606741574, 2730.4319180087846, 4137.1784922394681, 2465.8271767810024, 4257.3859250851301, 4944.073781291173, 3526.9558270676694, 4346.5369515011544, 4928.6919060052223, 3321.5321020228671, 4406.4627906976748, 3862.877800407332, 4164.9300546448085, 3987.9269311064718, 3314.6707000864303, 4185.2475463467827, 2768.951008645533, 3106.8805488297012, 2466.2857142857142, 4886.7218710493044, 3401.1160949868072, 3972.7207392197124, 3673.715909090909, 4900.8472222222226, 4948.7730138713741, 4224.9117330462859, 3888.1747285291212, 3594.6259124087592, 4081.3205791106516, 3266.8701406120763, 1908.1549975857074, 4343.9802847754654, 2766.7173611111111, 3308.1517412935323, 4943.6305418719212, 3922.59765625, 4192.6684045881129, 4108.9285714285716, 3116.1056283731687, 2641.0906718851925, 3019.7592867756316, 222.30927271733785, 4520.1687014428417, 4009.3011811023621, 4086.6519558676027, 4927.9842805320432, 1798.6072374227715, 3701.7693006357858, 4109.3890000000001, 3801.0941828254849, 1528.1500555761393, 3893.8518867924527, 3335.3957996768982, 3097.3335832083958, 2991.3805054151626, 4157.0149700598804, 3688.5436123348018, 3166.4131419939577, 3622.3520276100085, 3295.887843137255, 4248.3443775100404, 3614.2772108843537, 2260.1997874601489, 3558.9741881765194, 3204.0389221556884, 3503.4819967266776, 4619.6343042071194, 3941.5270890725437, 3276.3315548780488, 4209.9540566959922, 3423.7714285714287, 1761.1333605220229, 189.51149425287358, 3611.8361204013377, 3968.5284403669725, 4298.0534124629085, 2476.7475838544628, 4410.8876518218622, 2748.3379571248424, 3909.2176628010707, 4076.4460966542752, 2441.0238756246531, 4122.3829588014978, 2671.0145542753185, 3954.2786738351256, 3766.7604433077577, 2667.5210589651024, 4936.2388888888891, 3999.6651665166519, 3427.0546995377504, 4265.7555129434322, 3676.4523809523807, 4615.2874743326493, 4908.5753275109173, 4291.2213740458019, 3779.5802675585282, 1932.6705128205128, 4922.7861771058315, 3958.0857885615251, 3702.4344660194174, 3410.5223214285716, 3764.149387755102, 3736.7317666126419, 1911.6871900826445, 4510.9561830574485, 2003.0604751619871, 4476.1128254580517, 4461.9015296367115, 3543.9620349278662, 4905.2497376705142, 4912.4290187891438, 4923.3952033368096, 3633.8453846153848, 3960.1236424394319, 1953.4848236259229, 2249.5535124941066, 3303.9730103806228, 4098.4794168096059, 3323.3734353268428, 3883.7538586515029, 1782.3622810286993, 4581.4530651340992, 1250.6292046936114, 3305.9434872501724, 4415.1251149954005, 1846.7203227045716, 3974.5652892561984, 2868.6712328767121, 3506.6403190717911, 4058.9807046979868, 4268.069603524229, 4264.3301056338032, 3960.3570850202427, 4080.7406793703399, 1913.5993788819876, 4055.2775510204083, 2245.8422955264346, 3226.0680933852141, 3428.272664835165, 1990.8987644479873, 3053.2214765100671, 3283.6723460026215, 2514.5105315947844, 3362.0241125251173, 4125.28968903437, 4198.3621981681936, 3900.1916859122402, 4251.1492036881809, 3886.8009188361407, 3608.3671875, 3713.7815924032138, 4039.0690476190475, 4310.7535744322959, 3660.9686162624821, 3567.7012448132782, 3163.4223716381416, 3198.2618900555899, 2577.7270029673591, 2465.075907590759, 2203.0213926174497, 2422.3457471264369, 3176.7552742616035, 4907.86312849162, 3784.7944325481799, 3612.425068119891, 3542.7406914893618, 2212.5182119205297, 3232.9861529199279, 4890.7697189483224, 1995.9157778595072, 2947.2378114842904, 4944.2262443438913, 4823.4674868189804, 4964.2691960252932, 3721.6905890318212, 4177.50569476082, 4888.8419182948492, 4042.8767424798239, 2071.5112443778112, 2873.8068358363544, 2623.4945677846008, 3831.1500344115625, 4556.9754701553557, 3174.8390216154721, 4914.4691901408451, 4900.1169284467715, 2735.2197374817697, 4465.4619651347066, 2786.1680630852638, 2137.0818559034328, 2956.6781071242849, 3847.6968876860624, 6056.3117443868741, 3629.2262587635437, 3764.8401585204756, 4655.7219078415519, 2870.692077727952, 3323.166089965398, 3777.3827563683867, 3842.2853351028534, 4384.2108843537417, 4918.9152542372885, 2605.3947958725885, 2386.0828887977023, 4236.7327021121628, 3638.006875, 3836.8441814595662, 3311.364152013613, 98.088387313307607, 3066.2380952380954, 3769.1170418006432, 2367.8507462686566, 4216.8836206896549, 3005.7450076804917, 4807.6446078431372, 2314.0090373280941, 3010.643549209587, 4577.7577399380807, 2355.3542993630572, 3230.4806328423351, 4800.6369529983795, 4951.497095435685, 3131.0041906757465, 2243.4225721784778, 2927.302734375, 3542.5044300059067, 4896.0367047308318, 3350.8800442233278, 2487.6416564165643, 3251.0747463961561, 3073.2637418053455, 3575.5905373831774, 2903.9677572309151, 4205.3634496919922, 4629.0225903614455, 3271.2211589580011, 4555.0750551876381, 2763.1945681211041, 3320.4481837606836, 3830.9643076923076, 4904.4053417124906, 4909.2125490196076, 2907.0366419294992, 3106.978260869565, 2333.9407187847351, 2966.0649836372136, 4417.482044198895, 3102.6734397677792, 2991.2950209399719, 2771.5970727507533, 4944.0719204284624, 2679.0389233954452, 4102.853071564281, 4018.6163366336632, 4312.2253147779984, 3710.7833523375143, 2408.3369003690036, 2761.5059221658207, 2787.7518062048448, 3753.6344945745286, 4960.9479638009052, 962.75223181618617, 3301.9172102358252, 4327.5032851511169, 2656.1855877616749, 3124.3856332703213, 4028.4972842486422, 4858.2610909090909, 3482.6281851274052, 3539.6166842661037, 2941.582456140351, 2937.7319316688568, 4428.861660079051, 849.32299546142212, 4211.9731250000004, 4077.4469240048252, 4908.6328747284579, 3386.9965034965035, 2778.4159509202455, 3612.2334384858045, 4741.8488612836436, 4850.7890295358648, 2278.7877792378449, 3338.2642960115331, 4100.7008849557524, 4107.417011222682, 2517.6511544011546, 4930.7463002114164, 4258.850364963504, 3104.6976232394368, 3733.6700158646217, 4147.5372871403406, 4174.0135453474677, 4020.6150367439232, 4945.132363132363, 130.9927488584475, 4867.281355932203, 2246.3225907384231, 4954.9116632160112, 2897.2468787756748, 4592.2627551020405, 3310.7851239669421, 2680.1230026012636, 2716.5790662650602, 2552.8580508474574, 4953.0958247775498, 3568.3756770064006, 3852.2691082802548, 3131.9000000000001, 3253.8504923903311, 3669.41473259334, 4225.8639258830344, 4898.3922356091034, 2230.7793983591614, 1916.2043625032459, 3002.8999593330623, 4707.7105763141226, 4256.4269406392696, 4956.8966202783304, 4315.5582468281427, 4081.6472509526402, 3171.1566061629378, 3715.4045499505442, 3127.147670549085, 3192.9001692047377, 4575.3163944343614, 3747.1143564356435, 4196.2260917634048, 3231.1827454313643, 4229.1333702268957, 3741.2952659834064, 4381.8443557582668, 1938.4393483709273, 4925.5219047619048, 4301.3276148312116, 3010.7494217424828, 4496.1484464902187, 3044.5205905205903, 4085.7171874999999, 2974.9222601441033, 4953.1129337539433, 3772.2419587133941, 3399.3359273670558, 4942.3033919597992, 4880.046382189239, 2909.3781791374863, 3714.8594264221911, 3262.4188632619439, 2376.4670855774984, 3705.1453785415697, 4448.5220055710306, 2362.3701738874151, 4353.7852529601723, 2568.1557741116753, 4051.5748502994011, 3847.099431818182, 2782.5934931506849, 3546.0453356582389, 4959.925182481752, 4222.4628099173551, 2295.7526188557613, 4919.8020457280381, 4935.0277442702054, 4864.8923713778831, 3425.6508531002914, 4538.6440771349862, 2471.9194128220493, 2824.7346521145973, 2885.5048543689322, 3887.2315592903828, 2562.1071867321866, 4187.4448345035107, 3849.710671573137, 3219.5264165390504, 2768.3412151067323, 3748.7254553531766, 4083.4859767891685, 3873.4496336996335, 4936.2431486880469, 3437.4276449128497, 2715.6286811779769, 3608.8446519524618, 2648.0465404902266, 4428.1763485477177, 3858.6775067750677, 4487.7572916666668, 3375.8287163480295, 3041.7643960674159, 4248.9074436826641, 3051.0390021082221, 3443.6524317912217, 4343.5047287207562, 3823.9384010484928, 3926.8068130883012, 4623.8554852320676, 3677.9678228165481, 4260.8376027066215, 4366.1336633663368, 3423.1682170542636, 2665.2199758599882, 2117.5413282369805, 3286.5737037037038, 4900.4517906336087, 4401.5772637795271, 4088.182191780822, 4458.3382936507933, 4308.2495210727966, 4951.8519736842109, 3258.1624639769452, 4096.926630434783, 4953.084560829242, 4260.4847489441572, 2992.851119894598, 3458.0327120578168, 4611.0949974734713, 3888.3656462585036, 2479.4564337739412, 4674.8526422764226, 3206.4587826086959, 4134.9986565158979, 1704.9623300257258, 3169.465029000341, 4358.8913348946135, 4513.5493707647629, 3054.9437172774869, 3292.2478843441468, 4555.454634146341, 3431.6430927079518, 3247.1424116424118, 4485.7537063605932, 3232.6861867034104, 2552.3273518216424, 3665.5714842228281, 4383.1564974382864, 2765.5875623349957, 3430.6879535558783, 2788.7334905660377, 3526.5167660208645, 2991.6855246523387, 3141.9486244613854, 4971.8938839519078, 4797.4800806858293, 4159.1905594405598, 3415.8761665470206, 4051.7136170212766, 3817.3917567026811, 4964.9424870466319, 3578.3151605675876, 3894.2562956945571, 3135.808698495749, 3021.9770368040263, 4926.2942681678605, 2837.5190951821387, 4316.7882037533509, 3843.5888667992049, 4595.3563327032134, 4282.6054601497135, 4026.3831195697144, 4055.125, 2210.5510435571687, 3387.6475495307614, 4387.5208988764043, 4035.8474855729596, 4949.52849218356, 3146.4474695707881, 2997.0143292682928, 3427.3686956521738, 4504.7762557077622, 4462.8438628158847, 3667.7078859681601, 2989.4998491704373, 2728.6683181943299, 4427.9080767514506, 3873.0869395711502, 3487.6204840406876, 3849.9640510243526, 4259.9421522756274, 4014.5246098439375, 4768.7657061880018, 4151.8203125, 4678.9482917820869, 3051.1009312105739, 3841.672335600907, 4289.4556962025317, 3075.3062330623306, 4073.4952153110048, 4621.2033438770895, 4513.1578715919086, 4877.8874109263661, 4914.4373205741631, 4339.1004643309416, 3315.8427328391881, 4967.0607521697202, 4730.8499311610831, 3672.3618233618236, 3334.3057530704591, 4561.0251878038007, 3854.8037313432837, 3561.5579091219679, 4851.0784586815225, 3837.675348495965, 3381.5323206205558, 3143.3825382538253, 4188.8565721134637, 3671.4323663054874, 3159.047118847539, 3898.1439141694414, 4493.247655583973, 3434.19140625, 3512.660352276504, 4911.3464932652114, 2361.3186788663243, 1965.4336118848653, 2567.5316425120773, 4965.6534329752449, 2862.7736813778256, 3996.3940646130727, 2899.2045764096974, 3212.4160385890864, 3840.6743515850144, 4266.9480207916831, 3513.1046396841066, 2921.8320568927788, 3880.2047930283225, 4925.8840312931434, 3568.3175608130623, 4930.9232536764703, 4573.740364252435, 4437.89905621666, 3224.4609654350415, 2456.3211612610571, 3921.623418865197, 3716.9248890406284, 4294.2801418439713, 3490.0491541653369, 4897.5299107142855, 3439.6706287144198, 4940.5089365504919, 4946.0428571428574, 4147.611962616822, 4936.9319697643396, 4083.9776392961876, 4495.446370967742, 4321.0619914761719, 4134.0365853658541, 4305.3183391003458, 3490.8489567113047, 2872.4889856557379, 4573.6333333333332, 2490.909473218238, 3327.9357121792982, 4012.6660746003554, 4117.7942566339516, 4226.8185873605944, 4336.6154725609758, 2989.4775413711582, 4406.7348044909022, 3862.7416073245167, 4915.9491379310348, 3371.8713864306783, 4718.9629629629626, 3376.4029411764704, 2765.497591522158, 4056.7182009838371, 4928.1051959114138, 3327.4381088825216, 3881.5038397328881, 4185.9774193548383, 4081.2169053440448, 4507.0597763208634, 3765.0131875201027, 2822.5846783907491, 2501.0931914893617, 5070.0206405693953, 2675.32409720645, 3995.9918699186992, 3326.8568207440812, 2896.0777126099706, 3131.955192409067, 4350.4793720335892, 4369.9567607182116, 4032.2486486486487, 3123.5847479759727, 4197.0529081990189, 4934.9539094650208, 4927.6020491803283, 4248.5460967855879, 4555.1631419939577, 3134.3312581063556, 4345.5123966942147, 4338.3304751697033, 4956.8119135046918, 4191.3627282121943, 3723.9957212713934, 3965.6040988939494, 3227.6428571428573, 3844.1556395715188, 4049.7230108946846, 3098.2871561948018, 2282.29312267658, 4489.7930783242255, 4034.1871115472686, 2788.1190691369184, 3873.5647538413295, 3232.6940162006795, 3013.0780642023346, 3291.3605604017976, 4626.5988134964773, 3622.7486211901305, 4178.7877169559415, 4168.7454242928452, 3542.0070681368393, 3246.2065582235991, 3552.2523809523809, 4373.8168965517243, 2643.1300000000001, 3343.581027667984, 4287.9143627781523, 2542.9602238656807, 2632.7521155830755, 3229.7987851176918, 2896.7832880434785, 4944.7147792706337, 4109.6487261146494, 3009.8303467535488, 3151.2164923376308, 3597.7533296337401, 3159.4895224171541, 4376.3669477234398, 4472.7360109852389, 4193.9916317991629, 3116.2686460807599, 4425.166554508748, 4937.6579144786192, 3576.5495519956557, 4146.3357457520451, 3381.9570332480816, 3028.6060329067641, 3942.114973262032, 3547.0387389794282, 4440.8621955288618, 4076.3775946275946, 3712.1919470490898, 3836.371736662883, 4037.8462686567163, 2253.2102206736354, 4073.3677476941389, 4368.650955414013, 3467.2980914113509, 4117.8632300357567, 4938.0556943948586, 3620.4946461217028, 2756.9109343936379, 4019.8104897131266, 3989.094242337439, 3896.8834544438232, 4201.8169522091976, 4483.7565579014718, 4935.286870820134, 4481.408931419458, 4273.75, 2291.0254195861171, 4639.6682012495894, 2852.3541288108217, 4848.2262598560164, 4543.7679717586652, 3642.9987149832946, 4926.6573111573116, 2683.4132075471698, 3417.3904943873895, 4938.5198344256642, 4355.0325326847069, 3989.2049430713691, 3998.6963641409934, 4402.312862816987, 2053.1710301650542, 3708.6137063655033, 3974.835939643347, 2336.8204639339051, 4107.6111576011153, 2558.3478560358189, 4920.9500165508107, 4688.0890840652446, 4193.5996635828424, 4248.5397679026328, 3840.8727319192435, 2350.2648116304517, 3423.6614441416896, 4321.9599198396791, 4894.4846029173423, 4902.3982501620221, 4742.1432145090685, 3394.0934286991505, 4701.7235221674873, 3334.3373939525777, 1833.9767052920797, 3755.1004889975552, 3677.3265985262656, 2464.8134435086604, 4676.5124288709194, 3946.1626733921817, 3614.5963048498847, 3363.9727467811158, 3739.0833134967866, 3332.4605123861952, 3546.4523755910832, 3338.7204368830076, 4013.1062862913404, 3783.2819111005465, 3966.7628300946685, 4307.7755376344085, 3182.5077955397669, 4052.02232814852, 4921.4993932038833, 3387.2247448448238, 2826.070324709151, 4707.1072017592087, 3949.7669172932333, 4787.9396425432169, 3236.7447228250148, 4911.2010155316611, 4330.4674540682418, 2378.9692219185963, 3910.5296200141611, 4004.7652740883846, 3735.4557731262662, 2740.3542216358837, 2959.5992522698948, 2812.0895875591614, 3414.5145551455516, 3453.4945259243959, 3783.6830094893808, 4291.4575012800815, 3679.872340425532, 3620.1488673139161, 4569.5552832244011, 4241.7034883720926, 4219.5646411602902, 2621.8177454320221, 3367.274599089289, 3257.9078896974338, 3617.0877894736841, 3514.4328661385334, 4876.9778897285196, 4083.5139246431081, 3152.4592592592594, 4787.9211663066953, 3294.7353104726599, 4905.9362582781459, 4899.8539542573708, 4177.6834937778822, 3657.2483673469387, 3122.4668176275909, 3856.7291978609624, 4619.9318647540986, 4349.9744701348745, 4024.729946524064, 3477.8900866217518, 3084.578830748253, 3741.3149752475247, 4178.1387802071349, 3773.1338729763388, 3503.3708622016934, 4381.8993030521506, 4795.7860513896176, 3608.5396137169887, 2795.1024368231047, 4620.7699553792763, 3515.7601047904191, 4905.5351014040561, 4881.0360545969615, 4780.5522538403429, 4064.441352739726, 3839.6843914274159, 2324.6745576571079, 4478.2876583763491, 3166.0018202879364, 4769.209772951629, 3524.0061874431303, 3834.2143974960877, 4312.2911448033401, 3854.1399685904985, 3428.5293103448275, 4417.5350955131053, 3585.7347555555557, 2033.9330862466193, 2590.4477099236642, 4609.9076923076927, 4551.3748604599241, 4424.4250704836259, 3559.29840388619, 4633.4224021592445, 3444.3613010842369, 3176.0822085889572, 3265.0440231865896, 4410.1393735547617, 2815.4080267558529, 3831.4334303383048, 3503.5068425391592, 4220.7161494366474, 3110.6975389544195, 3631.2892297320072, 4783.3930315135376, 3635.7547638773817, 4789.6591996520228, 3631.6868158797583, 2601.765875336218, 4595.7771604938271, 4802.0019334049412, 3838.9649092776444, 2918.7052165994537, 3930.0577560635143, 3292.3080852305898, 4354.8033568567616, 4694.2816068515494, 2873.650006201166, 4873.4892146596858, 3802.3796311408519, 4610.1387626013047, 4379.2925093632957, 3464.5329694645229, 4044.8580501201509, 3820.3873946856775, 4785.5787354007252, 3990.2043967108575, 4343.8766104155329, 4724.5155818540434, 4793.0526523368171, 3658.7243291860291, 4819.1568128425997, 4365.4334157541507, 4249.8167208069754, 4847.5914041229098, 4885.6768635043563, 3516.0831707996658, 3633.1739130434785, 4768.4388597149291, 4131.7260185034893, 3259.4473751274209, 3449.3945275643619, 4058.4070097884432, 3342.4739305681965, 3836.1366006256517, 4363.3570340274255, 3809.2039580564169, 3849.3404793806758, 3999.917477978674, 3502.8843399540601, 4132.6950466846019, 4854.8913649025071, 3646.6280300919475, 3510.1083322188042, 4039.9943260236159, 4116.6962755181548, 3428.4480461242792, 3925.6454025516937, 2808.8257361416745, 4532.0906788247212, 3917.6796966161028, 4840.6596608972095, 4851.3620628753088, 4491.6315617867622, 4777.356133700896, 4101.0771950500884, 3461.3557395279872, 3330.1780577677405, 3259.6191140565052, 4106.8268726318856, 3825.2155429190361, 3188.4125819717683, 3227.2472743621447, 2504.8266480641787, 3757.7474602761135, 3948.0031407892939, 2866.0900829711577, 3958.8237375799645, 2858.33448341959, 3744.2948005434109, 4735.3916420692867, 3244.2895740623012, 2430.0905928853754, 3745.464745927547, 4238.9541840722277, 4515.8505598621878, 2961.931199101376, 4707.687472332891, 4739.5516272189352, 4722.9702897484922, 3354.8296566077001, 3833.6802311866004, 4853.9266862170089, 4230.8356077030994, 4808.8050993949873, 2812.769185607649, 3592.8885210891617, 3349.6305814645762, 3778.0089395463178, 4764.2007586400678, 4752.9943993279194, 4732.6510365938502, 3592.1791218070507, 3318.2861038075762, 3655.9005872931125, 3151.0040230410532, 3893.0916106272739, 3638.4107014480846, 4368.7731350620625, 2934.4326510399474, 4638.7405342323655, 4577.8837447243895, 4034.747420367878, 3057.5444228000338, 4684.793566362715, 3202.9208996066359, 4096.2957135105808, 4745.5921927952804, 3951.6799750467871, 4668.482112436116, 4607.7358060256875, 4600.2080179754021, 3949.6698055893075, 3920.4459999999999, 4270.1561241154059, 3229.7090328392433, 4049.6718894009218, 2862.8603710923398, 4420.963373546354, 4654.7919654034367, 4693.6590446004075, 3580.4810718843046, 4607.3533982707668, 4741.6030551499498, 4732.7834096237575, 4527.4581829760136, 4679.2496193169454, 2342.625839289582, 4546.7013014273716, 4034.0870651369355, 4566.1130716224679, 3600.4202162516381, 3356.4506290507052, 4479.2865692838304, 4362.542778379443, 4033.9559315899014, 3226.6433857871666, 4453.294335215106, 4167.8291737994414, 4511.2534246575342, 4477.0125448028675, 4434.1040677650562, 3988.476853782634, 4480.9532320800145, 4472.6094804010936, 4198.4725532986404, 4579.5022735540197, 3418.5258323765788, 4048.7391304347825, 4211.8688350860029, 3745.1450250536864, 4644.7798609277352, 3571.4660056657226, 4667.5131510189858, 4639.8457221790559, 4707.4234296591103, 3672.8683750336295, 3463.8418454528196, 3956.4858943147642, 4738.565641983696, 4683.7841912377144, 4070.2540841405234, 4170.1696415400502, 4620.0688841899801, 3310.7330552659018, 4632.7188683807526, 3949.8234001647897, 3583.9643656716416, 2961.9058841572519, 3846.4345584346906, 4543.5884496124027, 4216.8067885117498, 3888.211072441351, 2993.8533659730724, 3416.5017875097756, 4214.2926328750254, 3236.4442289548169, 4355.0250645814422, 3196.1337467231297, 2815.0330411031323, 3865.602800917542, 3186.02208107974, 3377.0510304729273, 3890.6792596497394, 3071.4156374822091, 3237.6274329872012, 3927.3363509749302, 4335.027550119783, 3463.13606995385, 4464.2310319135722, 4369.4795955437148, 3220.182574430823, 3840.0074020394431, 4483.0693063481795, 3289.2254531397648, 4473.4803967327889, 4408.1301460062987, 4405.933817641002, 2889.836231194407, 4408.3832351808023, 4383.3617766108737, 3642.1988923349577, 4616.8426074008712, 3940.3364722417427, 4627.8652474486998, 3599.0912045243522, 4568.8090724078838, 3331.8125790502472, 3753.5223449227851, 3136.981486150632, 3746.8549882035727, 4538.7135934710532, 4431.1230539666749, 3880.4372672958698, 3876.0876959415932, 4266.969259015159, 3993.0769942298375, 3415.2733864035581, 4210.3924931756146, 4148.4533481152994, 3796.7608090105364, 2917.9910838243914, 3534.0394266553667, 3622.5225526227864, 4006.2963752665246, 2965.3688220638505, 2954.4673240471279, 3892.3920550769458, 3209.7957234118066, 3590.1402537485583, 3531.1056442749077, 3309.9278739785836, 3446.9488949457841, 3669.7889870750651, 2315.4264734948806, 2223.7315302061525, 3459.641954200185, 2409.6995306074946, 2012.864174022495, 3011.1882463785182, 3488.4316140359806, 2019.455000285079, 1969.8777763561925, 1190.7322340007852]\n"
     ]
    }
   ],
   "source": [
    "# import numpy\n",
    "import numpy as np\n",
    "\n",
    "# separate the non-numbers from the lists\n",
    "electric_energy = np.array(energy_data[\"Electricity Use (kBtu)\"])\n",
    "electric_array = electric_energy[~np.isnan(electric_energy)]\n",
    "dioxide_released = np.array(energy_data[\"Total GHG Emissions (Metric Tons CO2e)\"])\n",
    "dioxide_released = dioxide_released[~np.isnan(dioxide_released)]\n",
    "\n",
    "# create a for loop to make ratios\n",
    "ratio_array = []\n",
    "for i in range(len(dioxide_released)-1):\n",
    "    ratio_array.append(electric_array[i]/dioxide_released[i])\n",
    "print(ratio_array)"
   ]
  },
  {
   "cell_type": "markdown",
   "metadata": {},
   "source": [
    "Show the last three entries:\n",
    "\n",
    "_This is a good way for you to see if your modification was successful and to see what the data looks like in your data set._"
   ]
  },
  {
   "cell_type": "code",
   "execution_count": 30,
   "metadata": {},
   "outputs": [
    {
     "data": {
      "text/plain": [
       "[2019.455000285079, 1969.8777763561925, 1190.7322340007852]"
      ]
     },
     "execution_count": 30,
     "metadata": {},
     "output_type": "execute_result"
    }
   ],
   "source": [
    "# displays last three entries\n",
    "ratio_array[-3:]"
   ]
  },
  {
   "cell_type": "markdown",
   "metadata": {},
   "source": [
    "### Question 3 of 4: What is the average amount of electricity used for one metric ton of CO2 emitted? \n",
    "### Answer: 4646.8113540982522 kBtu"
   ]
  },
  {
   "cell_type": "code",
   "execution_count": 31,
   "metadata": {},
   "outputs": [
    {
     "data": {
      "text/plain": [
       "4646.8113540982522"
      ]
     },
     "execution_count": 31,
     "metadata": {},
     "output_type": "execute_result"
    }
   ],
   "source": [
    "# import numpy to use average\n",
    "np.average(ratio_array)"
   ]
  },
  {
   "cell_type": "markdown",
   "metadata": {},
   "source": [
    "### Visualization 3 of 4: _Create a visualization that is related to your question in some way._\n",
    "\n",
    "_Your plot can be a bar chart, a histogram, a pie chart, a scatterplot, etc. Do NOT repeat a chart type that you used for Question 2. Make sure to title your chart, label your axes, etc._"
   ]
  },
  {
   "cell_type": "code",
   "execution_count": 33,
   "metadata": {
    "scrolled": true
   },
   "outputs": [
    {
     "data": {
      "image/png": "[encoded data removed]",
      "text/plain": [
       "<matplotlib.figure.Figure at 0x131a3a7b4a8>"
      ]
     },
     "metadata": {},
     "output_type": "display_data"
    }
   ],
   "source": [
    "# import matplotlib and numpy\n",
    "import matplotlib.pyplot as plt\n",
    "%matplotlib inline\n",
    "import numpy as np\n",
    "\n",
    "plt.style.use(\"ggplot\")\n",
    "plt.figure(figsize=(10,5))\n",
    "\n",
    "plt.title(\"Electricity Used vs CO2 emitted\")\n",
    "plt.xlabel(\"Electricity Used (kBtu)\")\n",
    "plt.ylabel(\"CO2 emitted (Metric Tons)\")\n",
    "\n",
    "new_elec_array = []\n",
    "for i in range(len(dioxide_released)):\n",
    "    new_elec_array.append(electric_array[i])\n",
    "x = new_elec_array\n",
    "y = dioxide_released\n",
    "\n",
    "# creates scatterplot \n",
    "plt.scatter(x, y,color = \"#00AAFF\")\n",
    "\n",
    "\n",
    "# creates the limits of the graph\n",
    "plt.xlim([-10000,170000000])\n",
    "plt.ylim([-1000,50000])\n",
    "\n",
    "plt.show()"
   ]
  },
  {
   "cell_type": "markdown",
   "metadata": {},
   "source": [
    "# Section 4: 10 points\n",
    "\n",
    "_To earn all 10 points on this question, you must ask/answer an interesting question that requires you to modify your data in some non-trivial way._"
   ]
  },
  {
   "cell_type": "markdown",
   "metadata": {},
   "source": [
    "### Modify Data 4 of 4: _Describe how you have modified your data_\n",
    "\n",
    "The data represents two lists of the property type and the amount of property with that type."
   ]
  },
  {
   "cell_type": "code",
   "execution_count": 34,
   "metadata": {
    "collapsed": true
   },
   "outputs": [],
   "source": [
    "# goes to the electricity the list and stores it in a variable\n",
    "property_type = energy_data[\"Primary Property Type\"].value_counts().index.tolist()\n",
    "\n",
    "# stores the number of people per department in a variable\n",
    "property_amount = energy_data[\"Primary Property Type\"].value_counts().tolist()\n",
    "# prints the previous two variables"
   ]
  },
  {
   "cell_type": "markdown",
   "metadata": {},
   "source": [
    "Show the last three entries:\n",
    "\n",
    "_This is a good way for you to see if your modification was successful and to see what the data looks like in your data set._"
   ]
  },
  {
   "cell_type": "code",
   "execution_count": 35,
   "metadata": {},
   "outputs": [
    {
     "name": "stdout",
     "output_type": "stream",
     "text": [
      "['Distribution Center', 'Urgent Care/Clinic/Other Outpatient', 'Other - Services']\n",
      "[1, 1, 1]\n"
     ]
    }
   ],
   "source": [
    "# prints the last 3 entries\n",
    "print(property_type[-3:])\n",
    "print(property_amount[-3:])"
   ]
  },
  {
   "cell_type": "markdown",
   "metadata": {},
   "source": [
    "### Question 4 of 4: How many buildings per property type?\n",
    "\n",
    "### Answer: See below\n"
   ]
  },
  {
   "cell_type": "code",
   "execution_count": 36,
   "metadata": {},
   "outputs": [
    {
     "name": "stdout",
     "output_type": "stream",
     "text": [
      "Office                                              458\n",
      "K-12 School                                         423\n",
      "Multifamily Housing                                 322\n",
      "College/University                                   98\n",
      "Hotel                                                53\n",
      "Retail Store                                         53\n",
      "Hospital (General Medical & Surgical)                46\n",
      "Supermarket/Grocery Store                            37\n",
      "Mixed Use Property                                   30\n",
      "Laboratory                                           27\n",
      "Strip Mall                                           19\n",
      "Other - Recreation                                   16\n",
      "Senior Care Community                                15\n",
      "Other                                                13\n",
      "Medical Office                                       12\n",
      "Worship Facility                                     11\n",
      "Residence Hall/Dormitory                             11\n",
      "Financial Office                                      9\n",
      "Library                                               9\n",
      "Museum                                                8\n",
      "Other - Mall                                          8\n",
      "Enclosed Mall                                         8\n",
      "Other - Entertainment/Public Assembly                 8\n",
      "Performing Arts                                       7\n",
      "Wholesale Club/Supercenter                            7\n",
      "Other - Specialty Hospital                            6\n",
      "Fitness Center/Health Club/Gym                        6\n",
      "Automobile Dealership                                 5\n",
      "Adult Education                                       4\n",
      "Repair Services (Vehicle, Shoe, Locksmith, etc.)      3\n",
      "Prison/Incarceration                                  3\n",
      "Courthouse                                            3\n",
      "Movie Theater                                         3\n",
      "Ambulatory Surgical Center                            2\n",
      "Other - Education                                     2\n",
      "Bank Branch                                           2\n",
      "Social/Meeting Hall                                   2\n",
      "Other - Public Services                               2\n",
      "Convention Center                                     2\n",
      "Residential Care Facility                             2\n",
      "Outpatient Rehabilitation/Physical Therapy            2\n",
      "Pre-school/Daycare                                    1\n",
      "Other - Lodging/Residential                           1\n",
      "Stadium (Open)                                        1\n",
      "Indoor Arena                                          1\n",
      "Distribution Center                                   1\n",
      "Urgent Care/Clinic/Other Outpatient                   1\n",
      "Other - Services                                      1\n",
      "Name: Primary Property Type, dtype: int64\n"
     ]
    }
   ],
   "source": [
    "# prints the number of times each property types shows up\n",
    "print(energy_data[\"Primary Property Type\"].value_counts())"
   ]
  },
  {
   "cell_type": "markdown",
   "metadata": {},
   "source": [
    "Print out the first few salaries to make sure salaryData contains the data we were hoping for:"
   ]
  },
  {
   "cell_type": "code",
   "execution_count": 37,
   "metadata": {},
   "outputs": [
    {
     "name": "stdout",
     "output_type": "stream",
     "text": [
      "Office                                   458\n",
      "K-12 School                              423\n",
      "Multifamily Housing                      322\n",
      "College/University                        98\n",
      "Hotel                                     53\n",
      "Retail Store                              53\n",
      "Hospital (General Medical & Surgical)     46\n",
      "Name: Primary Property Type, dtype: int64\n"
     ]
    }
   ],
   "source": [
    "# summary of this cell: \n",
    "print(energy_data[\"Primary Property Type\"].value_counts()[:7])"
   ]
  },
  {
   "cell_type": "markdown",
   "metadata": {},
   "source": [
    "### Visualization 4 of 4: _Create a visualization that is related to your question in some way._\n",
    "\n",
    "_Your plot can be a bar chart, a histogram, a pie chart, a scatterplot, etc. Do NOT repeat a chart type that you used for Question 2 or Question 3. Make sure to title your chart, label your axes, etc._"
   ]
  },
  {
   "cell_type": "code",
   "execution_count": 38,
   "metadata": {},
   "outputs": [
    {
     "data": {
      "image/png": "[encoded data removed]",
      "text/plain": [
       "<matplotlib.figure.Figure at 0x131a320b128>"
      ]
     },
     "metadata": {},
     "output_type": "display_data"
    }
   ],
   "source": [
    "# creates a section of shortened names\n",
    "shortened_names = property_type[:6]\n",
    "\n",
    "# appends this other to the end of the list\n",
    "shortened_names.append(\"Other\")\n",
    "\n",
    "# grabs onto the first ten numbers\n",
    "shortened_count = property_amount[:6]\n",
    "\n",
    "# adds the numbers together\n",
    "other_total = sum([x for x in property_amount[6:]])\n",
    "\n",
    "# appends this total to the ed of the list\n",
    "shortened_count.append(other_total)\n",
    "\n",
    "# import matplotlib.pyplot as plt\n",
    "import matplotlib.pyplot as plt\n",
    "%matplotlib inline\n",
    "\n",
    "# makes the labels the department names and the size of the pie the number of employees\n",
    "labels = shortened_names\n",
    "sizes = shortened_count\n",
    "\n",
    "plt.style.use(\"ggplot\")\n",
    "plt.figure(figsize = (10,10))\n",
    "\n",
    "# creates the pie chart with a title\n",
    "plt.pie(sizes, labels = labels, autopct = \"%1.1f%%\", shadow = True)\n",
    "plt.title(\"Buildings per Property Type\")\n",
    "\n",
    "plt.show()"
   ]
  },
  {
   "cell_type": "markdown",
   "metadata": {},
   "source": [
    "# Section 5: 5 points\n",
    "\n",
    "_To earn all 5 points in this section, you must provide thoughtful, well-written answers to the prompts._"
   ]
  },
  {
   "cell_type": "markdown",
   "metadata": {},
   "source": [
    "### Limitations of Analysis/Results/Conclusion\n",
    "\n",
    "_Describe the limitations of your analysis or limitations of one or more conclusions you may have drawn. For example, was there a calculation you wanted to perform but you were unable to complete it (time limitations, could not get the code to work, etc)? Was there something you wanted to analyze, but the data was not available in the dataset? Was there any data missing in your dataset? Was there a question you wanted to answer, but you didn't know how to go about answering it?_ \n",
    "\n",
    "_This is an open-ended question, so don't feel limited by the suggestions above. But remember that every data project has limitations._"
   ]
  },
  {
   "cell_type": "markdown",
   "metadata": {
    "collapsed": true
   },
   "source": [
    "There were many missing cells throughout the .csv file, so creating data was difficult due to holes in the data. Because of these limitations, concise conclusions were difficult to create from the given data."
   ]
  },
  {
   "cell_type": "markdown",
   "metadata": {},
   "source": [
    "### Areas for further study/analysis.\n",
    "\n",
    "_Describe the questions or data analysis you would consider if you had additional time, resources, available data, and/or technical knoweldge._"
   ]
  },
  {
   "cell_type": "markdown",
   "metadata": {
    "collapsed": true
   },
   "source": [
    "If I had additional available data, I would try to see how much one area of Chicago emitted CO2 compared to other parts. I would use this data to see if there was a major part of the city that was producing gas and possible reasons to why that part has the greatest amount of CO2 emissions."
   ]
  }
 ],
 "metadata": {
  "kernelspec": {
   "display_name": "Python 3",
   "language": "python",
   "name": "python3"
  },
  "language_info": {
   "codemirror_mode": {
    "name": "ipython",
    "version": 3
   },
   "file_extension": ".py",
   "mimetype": "text/x-python",
   "name": "python",
   "nbconvert_exporter": "python",
   "pygments_lexer": "ipython3",
   "version": "3.6.1"
  }
 },
 "nbformat": 4,
 "nbformat_minor": 1
}

{
 "cells": [
  {
   "cell_type": "markdown",
   "metadata": {},
   "source": [
    "### Dice Roll Algorithm\n",
    "    Justin Chen "
   ]
  },
  {
   "cell_type": "code",
   "execution_count": 4,
   "metadata": {},
   "outputs": [
    {
     "data": {
      "image/png": "[encoded data removed]",
      "text/plain": [
       "<matplotlib.figure.Figure at 0x23b7109e320>"
      ]
     },
     "metadata": {},
     "output_type": "display_data"
    },
    {
     "name": "stdout",
     "output_type": "stream",
     "text": [
      "[3 2 6 4 3 1 3 1 6 5 2 1 5 4 6 6 1 2 6 6 3 5 2 6 3 4 3 6 2 3 6 4 2 2 1 3 3\n",
      " 5 1 3 1 6 6 5 2 2 2 3 3 4 4 5 6 5 5 4 5 4 6 1 1 3 3 6 5 1 2 2 2 6 5 1 4 3\n",
      " 5 2 6 4 3 4 4 4 5 3 4 3 3 6 5 2 5 3 5 1 3 1 2 1 2 3 5 6 1 2 1 6 4 2 1 4 2\n",
      " 5 3 5 6 1 5 1 2 4 2 3 6 1 6 5 5 2 1 1 4 2 3 1 6 3 3 4 6 3 4 1 4 4 2 6 2 6\n",
      " 1 2 4 6 4 4 2 5 1 1 6 6 5 2 1 1 3 3 3 2 4 4 5 6 2 1 5 2 5 5 2 6 3 1 1 1 3\n",
      " 4 3 3 5 3 1 4 1 3 3 1 1 1 4 5 3 5 2 3 1 4 2 2 1 5 4 4 2 1 4 2 5 4 5 4 1 4\n",
      " 1 1 5 4 5 3 3 4 5 6 2 1 1 2 3 6 2 5 2 6 2 4 6 1 1 3 5 5 4 4 5 3 6 2 6 5 6\n",
      " 6 4 1 4 3 4 5 6 4 6 2 6 1 1 2 4 4 6 4 6 6 6 4 6 1 6 2 1 5 5 3 6 3 5 1 2 6\n",
      " 5 6 1 4 2 6 4 5 3 5 1 6 6 4 1 4 3 4 5 5 5 1 5 1 6 4 1 6 5 5 1 4 6 6 2 6 6\n",
      " 4 4 3 3 2 4 1 4 4 2 3 4 4 1 3 2 1 2 6 2 5 1 3 6 5 5 3 3 6 4 3 4 2 5 4 5 4\n",
      " 2 3 5 5 6 4 3 3 1 5 1 3 1 6 3 2 2 6 6 1 2 3 5 2 2 2 1 4 1 3 4 2 4 2 1 2 1\n",
      " 2 6 5 6 1 2 3 4 6 1 1 4 1 4 4 4 4 1 5 4 3 3 3 5 2 2 2 2 5 1 6 1 1 6 3 3 5\n",
      " 2 1 4 3 3 1 6 4 6 6 2 5 4 3 1 6 5 3 1 3 2 5 3 1 4 2 4 2 3 4 1 5 2 4 2 2 5\n",
      " 3 3 4 1 3 4 1 6 3 1 5 6 2 3 4 4 2 6 3 3 2 3 4 5 4 1 3 5 1 2 6 5 2 5 4 2 2\n",
      " 3 4 4 1 1 5 6 5 2 6 6 3 3 6 5 5 4 1 2 2 1 6 3 4 5 2 1 3 5 1 1 2 3 2 1 6 1\n",
      " 2 4 5 2 2 4 1 4 4 5 2 2 1 6 1 2 4 5 1 1 5 2 1 3 5 4 1 4 2 4 2 2 1 6 3 1 1\n",
      " 3 2 2 2 1 3 3 3 1 2 2 1 6 2 3 5 2 5 1 3 4 6 1 3 6 1 1 4 3 4 3 4 4 1 6 3 2\n",
      " 3 4 2 3 2 5 4 6 3 5 4 5 3 5 3 2 6 3 1 4 1 4 3 2 3 1 2 6 4 4 6 6 1 3 5 5 1\n",
      " 2 6 5 3 3 5 3 5 1 4 4 3 1 4 3 1 6 3 4 3 3 6 2 5 6 6 3 2 5 6 4 1 5 6 6 1 3\n",
      " 4 3 3 1 4 2 5 4 4 1 2 2 5 6 1 5 5 4 3 3 4 4 2 1 6 2 1 6 3 2 5 6 6 6 6 6 3\n",
      " 4 1 2 4 2 3 6 4 5 6 4 2 5 4 3 2 5 5 2 5 5 2 6 6 4 5 1 5 2 4 6 4 4 2 5 4 6\n",
      " 1 1 6 6 3 6 1 2 5 2 4 3 1 2 5 4 6 2 6 6 3 4 3 2 6 3 5 5 5 2 5 5 4 2 1 2 1\n",
      " 6 5 5 3 2 5 6 2 4 1 5 4 3 2 2 4 2 6 5 3 3 2 2 4 6 2 5 3 4 4 1 1 3 2 1 1 5\n",
      " 4 2 1 6 3 2 6 5 3 1 2 6 1 3 1 6 5 4 6 3 5 4 1 5 3 1 6 2 1 6 1 6 4 2 6 5 2\n",
      " 1 2 6 3 5 5 6 5 6 5 4 5 1 1 4 2 2 2 6 6 3 5 6 6 5 6 1 1 1 6 4 1 2 6 1 2 2\n",
      " 3 4 6 1 1 3 3 2 4 4 5 2 4 1 3 3 5 3 4 1 5 4 1 4 2 6 5 2 4 1 6 5 3 2 2 1 3\n",
      " 6 2 6 4 6 6 2 4 1 2 1 5 4 1 1 2 6 2 6 4 1 1 3 5 4 6 3 2 3 6 4 3 3 5 3 4 6\n",
      " 1]\n"
     ]
    }
   ],
   "source": [
    "import numpy as np\n",
    "import random as rnd\n",
    "import matplotlib.pyplot as mpl\n",
    "%matplotlib inline\n",
    "\n",
    "\n",
    "\n",
    "x = np.random.randint(1,7,1000)\n",
    "mpl.hist(x, bins = [1,2,3,4,5,6,7], align = \"left\", color = \"blue\", edgecolor = \"k\")\n",
    "mpl.title(\"Dice Rolls\")\n",
    "mpl.xlabel(\"\")\n",
    "mpl.show()\n",
    "\n",
    "print(x)"
   ]
  },
  {
   "cell_type": "code",
   "execution_count": null,
   "metadata": {
    "collapsed": true
   },
   "outputs": [],
   "source": []
  }
 ],
 "metadata": {
  "kernelspec": {
   "display_name": "Python 3",
   "language": "python",
   "name": "python3"
  },
  "language_info": {
   "codemirror_mode": {
    "name": "ipython",
    "version": 3
   },
   "file_extension": ".py",
   "mimetype": "text/x-python",
   "name": "python",
   "nbconvert_exporter": "python",
   "pygments_lexer": "ipython3",
   "version": "3.6.1"
  }
 },
 "nbformat": 4,
 "nbformat_minor": 2
}
